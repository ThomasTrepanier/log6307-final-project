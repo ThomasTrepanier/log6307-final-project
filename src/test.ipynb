{
 "cells": [
  {
   "cell_type": "markdown",
   "metadata": {},
   "source": [
    "# Extract all conversations"
   ]
  },
  {
   "cell_type": "code",
   "execution_count": null,
   "metadata": {},
   "outputs": [],
   "source": [
    "from conversation_extractor import ConversationExtractor\n",
    "import os\n",
    "\n",
    "extractor = ConversationExtractor()\n",
    "\n",
    "for subdir, dirs, files in os.walk(f\"../data/raw\"):\n",
    "    for file in files:\n",
    "        if (extractor.is_csv_file(file)):\n",
    "            continue\n",
    "\n",
    "        path = os.path.join(subdir, file)\n",
    "        print(f\"Extracting conversations from {path}...\")\n",
    "        conversations_by_url = extractor.extract_conversations_by_url(\n",
    "            path, print_process=False)\n",
    "        extractor.save_conversations(path, conversations_by_url)"
   ]
  },
  {
   "cell_type": "markdown",
   "metadata": {},
   "source": [
    "# Filter out conversations without code"
   ]
  },
  {
   "cell_type": "code",
   "execution_count": 1,
   "metadata": {},
   "outputs": [
    {
     "name": "stdout",
     "output_type": "stream",
     "text": [
      "Filtering conversations from ../data/interim/conversations\\20230727_195816_hn_sharings.json...\n",
      "Filtering conversations from ../data/interim/conversations\\20230727_195927_pr_sharings.json...\n",
      "Filtering conversations from ../data/interim/conversations\\20230727_195941_issue_sharings.json...\n",
      "Filtering conversations from ../data/interim/conversations\\20230727_195954_discussion_sharings.json...\n",
      "Filtering conversations from ../data/interim/conversations\\20230727_200003_commit_sharings.json...\n",
      "Filtering conversations from ../data/interim/conversations\\20230727_200102_file_sharings.json...\n",
      "Filtering conversations from ../data/interim/conversations\\20230803_093947_pr_sharings.json...\n",
      "Filtering conversations from ../data/interim/conversations\\20230803_094705_issue_sharings.json...\n",
      "Filtering conversations from ../data/interim/conversations\\20230803_094811_discussion_sharings.json...\n",
      "Filtering conversations from ../data/interim/conversations\\20230803_095317_commit_sharings.json...\n",
      "Filtering conversations from ../data/interim/conversations\\20230803_103605_file_sharings.json...\n",
      "Filtering conversations from ../data/interim/conversations\\20230803_105332_hn_sharings.json...\n",
      "Filtering conversations from ../data/interim/conversations\\20230810_123110_pr_sharings.json...\n",
      "Filtering conversations from ../data/interim/conversations\\20230810_123938_issue_sharings.json...\n",
      "Filtering conversations from ../data/interim/conversations\\20230810_124048_discussion_sharings.json...\n",
      "Filtering conversations from ../data/interim/conversations\\20230810_124807_commit_sharings.json...\n",
      "Filtering conversations from ../data/interim/conversations\\20230810_133121_file_sharings.json...\n",
      "Filtering conversations from ../data/interim/conversations\\20230810_134011_hn_sharings.json...\n",
      "Filtering conversations from ../data/interim/conversations\\20230817_125147_pr_sharings.json...\n",
      "Filtering conversations from ../data/interim/conversations\\20230817_130502_issue_sharings.json...\n",
      "Filtering conversations from ../data/interim/conversations\\20230817_130721_discussion_sharings.json...\n",
      "Filtering conversations from ../data/interim/conversations\\20230817_131244_commit_sharings.json...\n",
      "Filtering conversations from ../data/interim/conversations\\20230817_151344_file_sharings.json...\n",
      "Filtering conversations from ../data/interim/conversations\\20230817_170022_hn_sharings.json...\n",
      "Filtering conversations from ../data/interim/conversations\\20230824_100450_pr_sharings.json...\n",
      "Filtering conversations from ../data/interim/conversations\\20230824_101836_issue_sharings.json...\n",
      "Filtering conversations from ../data/interim/conversations\\20230824_102000_discussion_sharings.json...\n",
      "Filtering conversations from ../data/interim/conversations\\20230824_102435_commit_sharings.json...\n",
      "Filtering conversations from ../data/interim/conversations\\20230824_111114_file_sharings.json...\n",
      "Filtering conversations from ../data/interim/conversations\\20230824_112153_hn_sharings.json...\n",
      "Filtering conversations from ../data/interim/conversations\\20230831_060603_pr_sharings.json...\n",
      "Filtering conversations from ../data/interim/conversations\\20230831_061759_issue_sharings.json...\n",
      "Filtering conversations from ../data/interim/conversations\\20230831_061926_discussion_sharings.json...\n",
      "Filtering conversations from ../data/interim/conversations\\20230831_063412_commit_sharings.json...\n",
      "Filtering conversations from ../data/interim/conversations\\20230831_072722_file_sharings.json...\n",
      "Filtering conversations from ../data/interim/conversations\\20230831_073827_hn_sharings.json...\n"
     ]
    }
   ],
   "source": [
    "from conversation_filter import ConversationFilter\n",
    "import os\n",
    "\n",
    "conversation_filter = ConversationFilter()\n",
    "\n",
    "# Read every file of the data/interim/conversations folder\n",
    "for subdir, dirs, files in os.walk(f\"../data/interim/conversations\"):\n",
    "    for file in files:\n",
    "        path = os.path.join(subdir, file)\n",
    "        print(f\"Filtering conversations from {path}...\")\n",
    "        conversation_filter.filter_conversations_without_code(path, print_process=False)"
   ]
  }
 ],
 "metadata": {
  "kernelspec": {
   "display_name": "Python 3",
   "language": "python",
   "name": "python3"
  },
  "language_info": {
   "codemirror_mode": {
    "name": "ipython",
    "version": 3
   },
   "file_extension": ".py",
   "mimetype": "text/x-python",
   "name": "python",
   "nbconvert_exporter": "python",
   "pygments_lexer": "ipython3",
   "version": "3.12.0"
  }
 },
 "nbformat": 4,
 "nbformat_minor": 2
}
