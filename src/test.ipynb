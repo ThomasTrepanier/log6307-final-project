{
 "cells": [
  {
   "cell_type": "markdown",
   "metadata": {},
   "source": [
    "# Extract all conversations"
   ]
  },
  {
   "cell_type": "code",
   "execution_count": null,
   "metadata": {},
   "outputs": [],
   "source": [
    "from conversation_extractor import ConversationExtractor\n",
    "import os\n",
    "\n",
    "extractor = ConversationExtractor()\n",
    "\n",
    "for subdir, dirs, files in os.walk(f\"../data/raw\"):\n",
    "    for file in files:\n",
    "        if (extractor.is_csv_file(file)):\n",
    "            continue\n",
    "\n",
    "        path = os.path.join(subdir, file)\n",
    "        print(f\"Extracting conversations from {path}...\")\n",
    "        conversations_by_url = extractor.extract_conversations_by_url(\n",
    "            path, print_process=False)\n",
    "        extractor.save_conversations(path, conversations_by_url)"
   ]
  },
  {
   "cell_type": "markdown",
   "metadata": {},
   "source": [
    "# Filter conversations"
   ]
  },
  {
   "cell_type": "code",
   "execution_count": null,
   "metadata": {},
   "outputs": [],
   "source": [
    "from conversation_filter import ConversationFilter\n",
    "import os\n",
    "\n",
    "conversation_filter = ConversationFilter()\n",
    "print_process = False\n",
    "\n",
    "conversations_with_code = {}\n",
    "python_conversation = {}\n",
    "js_conversation = {}\n",
    "ts_conversation = {}\n",
    "java_conversation = {}\n",
    "\n",
    "# Read every file of the data/interim/conversations folder\n",
    "for subdir, dirs, files in os.walk(f\"../data/interim/conversations\"):\n",
    "    for file in files:\n",
    "        path = os.path.join(subdir, file)\n",
    "        print(f\"Filtering conversations from {path}...\")\n",
    "        conversations_by_url = conversation_filter.load_conversations(path)\n",
    "\n",
    "        new_conversations_with_code = conversation_filter.get_conversations_with_code(\n",
    "            conversations_by_url, print_process)\n",
    "        new_python_conversation = conversation_filter.get_python_conversations(\n",
    "            conversations_by_url, print_process)\n",
    "        new_js_conversation = conversation_filter.get_js_conversations(\n",
    "            conversations_by_url, print_process)\n",
    "        new_ts_conversation = conversation_filter.get_ts_conversations(\n",
    "            conversations_by_url, print_process)\n",
    "        new_java_conversation = conversation_filter.get_java_conversations(\n",
    "            conversations_by_url, print_process)\n",
    "        \n",
    "        conversations_with_code.update(new_conversations_with_code)\n",
    "        python_conversation.update(new_python_conversation)\n",
    "        js_conversation.update(new_js_conversation)\n",
    "        ts_conversation.update(new_ts_conversation)\n",
    "        java_conversation.update(new_java_conversation)\n",
    "\n",
    "\n",
    "conversation_filter.save_conversations(\n",
    "    conversations_with_code, 'with-code')\n",
    "conversation_filter.save_conversations(python_conversation, 'python')\n",
    "conversation_filter.save_conversations(js_conversation, 'javascript')\n",
    "conversation_filter.save_conversations(ts_conversation, 'typescript')\n",
    "conversation_filter.save_conversations(java_conversation, 'java')"
   ]
  },
  {
   "cell_type": "markdown",
   "metadata": {},
   "source": [
    "# Compute Metrics"
   ]
  },
  {
   "cell_type": "code",
   "execution_count": 3,
   "metadata": {},
   "outputs": [
    {
     "name": "stdout",
     "output_type": "stream",
     "text": [
      "Complexity is 1\n",
      "Complexity is 1\n",
      "Complexity is 3\n",
      "Complexity is 1\n",
      "Complexity is 1\n",
      "Complexity is 1\n",
      "Complexity is 1\n",
      "Complexity is 1\n",
      "Complexity is 1\n",
      "Complexity is 1\n",
      "Complexity is 1\n",
      "Complexity is 6\n",
      "Complexity is 6\n",
      "Complexity is 3\n",
      "Complexity is 8\n",
      "Complexity is 1\n",
      "Complexity is 9\n",
      "Complexity is 4\n",
      "Complexity is 3\n",
      "Complexity is 5\n",
      "Complexity is 7\n",
      "Complexity is 23\n",
      "Complexity is 23\n",
      "Complexity is 0\n",
      "Complexity is 0\n",
      "Complexity is 0\n",
      "Complexity is 0\n",
      "Complexity is 2\n",
      "Complexity is 0\n",
      "Complexity is 0\n",
      "Complexity is 2\n",
      "Complexity is 0\n",
      "Complexity is 0\n",
      "Complexity is 0\n",
      "Complexity is 2\n",
      "Complexity is 0\n",
      "Complexity is 0\n",
      "Complexity is 2\n",
      "Complexity is 0\n",
      "Complexity is 0\n",
      "Complexity is 0\n",
      "Complexity is 0\n",
      "Complexity is 0\n",
      "Complexity is 0\n",
      "Complexity is 0\n",
      "Complexity is 0\n",
      "Complexity is 0\n",
      "Complexity is 1\n",
      "Complexity is 1\n",
      "Complexity is 1\n",
      "Complexity is 1\n",
      "Complexity is 1\n",
      "Complexity is 1\n",
      "Complexity is 1\n",
      "Complexity is 1\n",
      "Complexity is 1\n",
      "Complexity is 1\n",
      "Complexity is 0\n",
      "Complexity is 2\n"
     ]
    },
    {
     "ename": "IndentationError",
     "evalue": "expected an indented block after 'except' statement on line 8 (<unknown>, line 12)",
     "output_type": "error",
     "traceback": [
      "Traceback \u001b[1;36m(most recent call last)\u001b[0m:\n",
      "\u001b[0m  File \u001b[0;32m~\\AppData\\Roaming\\Python\\Python312\\site-packages\\IPython\\core\\interactiveshell.py:3526\u001b[0m in \u001b[0;35mrun_code\u001b[0m\n    exec(code_obj, self.user_global_ns, self.user_ns)\u001b[0m\n",
      "\u001b[0m  Cell \u001b[0;32mIn[3], line 15\u001b[0m\n    complexity = cyclomatic_complexity.compute_complexity(code.content)\u001b[0m\n",
      "\u001b[0m  File \u001b[0;32mc:\\Users\\m_bla\\Desktop\\Code_Poly\\LOG6307\\log6307-final-project\\src\\compute_metrics.py:10\u001b[0m in \u001b[0;35mcompute_complexity\u001b[0m\n    results = cc_visit(code)\u001b[0m\n",
      "\u001b[0m  File \u001b[0;32m~\\AppData\\Roaming\\Python\\Python312\\site-packages\\radon\\complexity.py:101\u001b[0m in \u001b[0;35mcc_visit\u001b[0m\n    return cc_visit_ast(code2ast(code), **kwargs)\u001b[0m\n",
      "\u001b[0m  File \u001b[0;32m~\\AppData\\Roaming\\Python\\Python312\\site-packages\\radon\\visitors.py:48\u001b[0m in \u001b[0;35mcode2ast\u001b[0m\n    return ast.parse(source)\u001b[0m\n",
      "\u001b[1;36m  File \u001b[1;32mc:\\Program Files\\Python312\\Lib\\ast.py:52\u001b[1;36m in \u001b[1;35mparse\u001b[1;36m\n\u001b[1;33m    return compile(source, filename, mode, flags,\u001b[1;36m\n",
      "\u001b[1;36m  File \u001b[1;32m<unknown>:12\u001b[1;36m\u001b[0m\n\u001b[1;33m    movies_per_page = NUMBER_MOVIES_PER_PAGE\u001b[0m\n\u001b[1;37m    ^\u001b[0m\n\u001b[1;31mIndentationError\u001b[0m\u001b[1;31m:\u001b[0m expected an indented block after 'except' statement on line 8\n"
     ]
    }
   ],
   "source": [
    "from compute_metrics import CyclomaticComplexity\n",
    "from conversation_io import ConversationIO\n",
    "from model import Conversation, Code\n",
    "import json \n",
    "\n",
    "cyclomatic_complexity = CyclomaticComplexity()\n",
    "io = ConversationIO()\n",
    "path = \"../data/interim/filtered-conversations/conversations-python.json\"\n",
    "\n",
    "conversations_by_url: dict[str, list[Conversation]] = io.load_conversations(path)\n",
    "max = 0\n",
    "for url, conversations in conversations_by_url.items():\n",
    "    for conversation in conversations:\n",
    "        for code in conversation.list_of_codes:\n",
    "            complexity = cyclomatic_complexity.compute_complexity(code.content)\n",
    "\n",
    "            print(f\"Complexity is {complexity}\")\n",
    "            if (complexity > max):\n",
    "                max = complexity\n",
    "\n",
    "print(f\"Max complexity is {max}\")"
   ]
  }
 ],
 "metadata": {
  "kernelspec": {
   "display_name": "Python 3",
   "language": "python",
   "name": "python3"
  },
  "language_info": {
   "codemirror_mode": {
    "name": "ipython",
    "version": 3
   },
   "file_extension": ".py",
   "mimetype": "text/x-python",
   "name": "python",
   "nbconvert_exporter": "python",
   "pygments_lexer": "ipython3",
   "version": "3.12.0"
  }
 },
 "nbformat": 4,
 "nbformat_minor": 2
}
