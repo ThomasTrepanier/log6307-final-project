{
 "cells": [
  {
   "cell_type": "markdown",
   "metadata": {},
   "source": [
    "# Extract all conversations"
   ]
  },
  {
   "cell_type": "code",
   "execution_count": null,
   "metadata": {},
   "outputs": [],
   "source": [
    "from conversation_extractor import ConversationExtractor\n",
    "import os\n",
    "\n",
    "extractor = ConversationExtractor()\n",
    "\n",
    "for subdir, dirs, files in os.walk(f\"../data/raw\"):\n",
    "    for file in files:\n",
    "        if (extractor.is_csv_file(file)):\n",
    "            continue\n",
    "\n",
    "        path = os.path.join(subdir, file)\n",
    "        print(f\"Extracting conversations from {path}...\")\n",
    "        conversations_by_url = extractor.extract_conversations_by_url(\n",
    "            path, print_process=False)\n",
    "        extractor.save_conversations(path, conversations_by_url)"
   ]
  },
  {
   "cell_type": "markdown",
   "metadata": {},
   "source": [
    "# Filter conversations"
   ]
  },
  {
   "cell_type": "code",
   "execution_count": null,
   "metadata": {},
   "outputs": [],
   "source": [
    "from conversation_filter import ConversationFilter\n",
    "import os\n",
    "\n",
    "conversation_filter = ConversationFilter()\n",
    "print_process = False\n",
    "\n",
    "conversations_with_code = {}\n",
    "python_conversation = {}\n",
    "js_conversation = {}\n",
    "ts_conversation = {}\n",
    "java_conversation = {}\n",
    "\n",
    "# Read every file of the data/interim/conversations folder\n",
    "for subdir, dirs, files in os.walk(f\"../data/interim/conversations\"):\n",
    "    for file in files:\n",
    "        path = os.path.join(subdir, file)\n",
    "        print(f\"Filtering conversations from {path}...\")\n",
    "        conversations_by_url = conversation_filter.load_conversations(path)\n",
    "\n",
    "        new_conversations_with_code = conversation_filter.get_conversations_with_code(\n",
    "            conversations_by_url, print_process)\n",
    "        new_python_conversation = conversation_filter.get_python_conversations(\n",
    "            conversations_by_url, print_process)\n",
    "        new_js_conversation = conversation_filter.get_js_conversations(\n",
    "            conversations_by_url, print_process)\n",
    "        new_ts_conversation = conversation_filter.get_ts_conversations(\n",
    "            conversations_by_url, print_process)\n",
    "        new_java_conversation = conversation_filter.get_java_conversations(\n",
    "            conversations_by_url, print_process)\n",
    "        \n",
    "        conversations_with_code.update(new_conversations_with_code)\n",
    "        python_conversation.update(new_python_conversation)\n",
    "        js_conversation.update(new_js_conversation)\n",
    "        ts_conversation.update(new_ts_conversation)\n",
    "        java_conversation.update(new_java_conversation)\n",
    "\n",
    "\n",
    "conversation_filter.save_conversations(\n",
    "    conversations_with_code, 'with-code')\n",
    "conversation_filter.save_conversations(python_conversation, 'python')\n",
    "conversation_filter.save_conversations(js_conversation, 'javascript')\n",
    "conversation_filter.save_conversations(ts_conversation, 'typescript')\n",
    "conversation_filter.save_conversations(java_conversation, 'java')"
   ]
  }
 ],
 "metadata": {
  "language_info": {
   "name": "python"
  }
 },
 "nbformat": 4,
 "nbformat_minor": 2
}
