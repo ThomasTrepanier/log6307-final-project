{
 "cells": [
  {
   "cell_type": "markdown",
   "metadata": {},
   "source": [
    "# Extract all conversations"
   ]
  },
  {
   "cell_type": "code",
   "execution_count": null,
   "metadata": {},
   "outputs": [],
   "source": [
    "from conversation_extractor import ConversationExtractor\n",
    "import os\n",
    "\n",
    "extractor = ConversationExtractor()\n",
    "\n",
    "for subdir, dirs, files in os.walk(f\"../data/raw\"):\n",
    "    for file in files:\n",
    "        if (extractor.is_csv_file(file)):\n",
    "            continue\n",
    "\n",
    "        path = os.path.join(subdir, file)\n",
    "        print(f\"Extracting conversations from {path}...\")\n",
    "        conversations_by_url = extractor.extract_conversations_by_url(\n",
    "            path, print_process=False)\n",
    "        extractor.save_conversations(path, conversations_by_url)"
   ]
  },
  {
   "cell_type": "markdown",
   "metadata": {},
   "source": [
    "# Filter conversations"
   ]
  },
  {
   "cell_type": "code",
   "execution_count": null,
   "metadata": {},
   "outputs": [],
   "source": [
    "from conversation_filter import ConversationFilter\n",
    "import os\n",
    "\n",
    "conversation_filter = ConversationFilter()\n",
    "print_process = False\n",
    "\n",
    "conversations_with_code = {}\n",
    "python_conversation = {}\n",
    "js_conversation = {}\n",
    "ts_conversation = {}\n",
    "java_conversation = {}\n",
    "\n",
    "# Read every file of the data/interim/conversations folder\n",
    "for subdir, dirs, files in os.walk(f\"../data/interim/conversations\"):\n",
    "    for file in files:\n",
    "        path = os.path.join(subdir, file)\n",
    "        print(f\"Filtering conversations from {path}...\")\n",
    "        conversations_by_url = conversation_filter.load_conversations(path)\n",
    "\n",
    "        new_conversations_with_code = conversation_filter.get_conversations_with_code(\n",
    "            conversations_by_url, print_process)\n",
    "        new_python_conversation = conversation_filter.get_python_conversations(\n",
    "            conversations_by_url, print_process)\n",
    "        new_js_conversation = conversation_filter.get_js_conversations(\n",
    "            conversations_by_url, print_process)\n",
    "        new_ts_conversation = conversation_filter.get_ts_conversations(\n",
    "            conversations_by_url, print_process)\n",
    "        new_java_conversation = conversation_filter.get_java_conversations(\n",
    "            conversations_by_url, print_process)\n",
    "        \n",
    "        conversations_with_code.update(new_conversations_with_code)\n",
    "        python_conversation.update(new_python_conversation)\n",
    "        js_conversation.update(new_js_conversation)\n",
    "        ts_conversation.update(new_ts_conversation)\n",
    "        java_conversation.update(new_java_conversation)\n",
    "\n",
    "\n",
    "conversation_filter.save_conversations(\n",
    "    conversations_with_code, 'with-code')\n",
    "conversation_filter.save_conversations(python_conversation, 'python')\n",
    "conversation_filter.save_conversations(js_conversation, 'javascript')\n",
    "conversation_filter.save_conversations(ts_conversation, 'typescript')\n",
    "conversation_filter.save_conversations(java_conversation, 'java')"
   ]
  },
  {
   "cell_type": "markdown",
   "metadata": {},
   "source": [
    "# Extract Code Snippets as Source Code files"
   ]
  },
  {
   "cell_type": "code",
   "execution_count": null,
   "metadata": {},
   "outputs": [],
   "source": [
    "from conversation_io import ConversationIO\n",
    "from source_code_extractor import SourceCodeExtractor\n",
    "\n",
    "conversation_io = ConversationIO()\n",
    "source_code_extractor = SourceCodeExtractor()\n",
    "\n",
    "url = \"../data/interim/filtered-conversations\"\n",
    "origin = \"chatgpt\"\n",
    "type = \"python\"\n",
    "print_process = False\n",
    "\n",
    "conversations_by_url = conversation_io.load_conversations(f\"{url}/conversations-{type}.json\")\n",
    "\n",
    "source_codes = source_code_extractor.extract(conversations_by_url)\n",
    "\n",
    "source_code_extractor.export_source_code(origin, source_codes, type)\n",
    "\n",
    "source_code_extractor.delete_invalid_files(origin, type)\n"
   ]
  },
  {
   "cell_type": "markdown",
   "metadata": {},
   "source": [
    "# Fetch Questions from Stack Overflow"
   ]
  },
  {
   "cell_type": "code",
   "execution_count": 1,
   "metadata": {},
   "outputs": [],
   "source": [
    "from so_extractor import StackOverflowExtractor\n",
    "\n",
    "raw_dir = \"../data/raw/stackoverflow\"\n",
    "interim_dir = \"../data/interim/stackoverflow\"\n",
    "so_extractor = StackOverflowExtractor(raw_dir, interim_dir)\n",
    "\n",
    "type = \"python\"\n",
    "number_of_answer = 5\n",
    "has_accepted_answer = True\n",
    "nb_of_views = 1000\n",
    "\n",
    "start_page = 1\n",
    "max_page = 50\n",
    "\n",
    "so_extractor.fetch_search(type, start_page, max_page, number_of_answer, has_accepted_answer, nb_of_views)"
   ]
  },
  {
   "cell_type": "markdown",
   "metadata": {},
   "source": [
    "# Extract Answers from fetched Questions"
   ]
  },
  {
   "cell_type": "code",
   "execution_count": 3,
   "metadata": {},
   "outputs": [],
   "source": [
    "from so_extractor import StackOverflowExtractor\n",
    "\n",
    "raw_dir = \"../data/raw/stackoverflow\"\n",
    "interim_dir = \"../data/interim/stackoverflow\"\n",
    "so_extractor = StackOverflowExtractor(raw_dir, interim_dir)\n",
    "\n",
    "type = \"python\"\n",
    "start_page = 1\n",
    "max_page = 50\n",
    "\n",
    "question_ids = so_extractor.extract_question_ids(type)\n",
    "\n",
    "so_extractor.fetch_answers(start_page, max_page, question_ids, type)"
   ]
  },
  {
   "cell_type": "markdown",
   "metadata": {},
   "source": [
    "# Extract Code Snippets from Answers"
   ]
  },
  {
   "cell_type": "code",
   "execution_count": null,
   "metadata": {},
   "outputs": [],
   "source": [
    "from so_extractor import StackOverflowExtractor\n",
    "import os\n",
    "\n",
    "raw_dir = \"../data/raw/stackoverflow\"\n",
    "interim_dir = \"../data/interim/stackoverflow\"\n",
    "so_extractor = StackOverflowExtractor(raw_dir, interim_dir)\n",
    "\n",
    "type = \"python\"\n",
    "\n",
    "for subdir, dirs, files in os.walk(f\"{raw_dir}/answers\"):\n",
    "    for i, file in enumerate(files):\n",
    "        path = os.path.join(subdir, file)\n",
    "        print(f\"Extracting code from {path}...\")\n",
    "\n",
    "        so_extractor.extract_code_from_answers(path, i, type)"
   ]
  },
  {
   "cell_type": "markdown",
   "metadata": {},
   "source": [
    "# Export Valid Code Snippets to Python Files"
   ]
  },
  {
   "cell_type": "code",
   "execution_count": null,
   "metadata": {},
   "outputs": [],
   "source": [
    "from itertools import chain\n",
    "from source_code_extractor import SourceCodeExtractor\n",
    "import json\n",
    "import os\n",
    "\n",
    "source_code_extractor = SourceCodeExtractor()\n",
    "raw_dir = \"../data/raw/stackoverflow\"\n",
    "interim_dir = \"../data/interim/stackoverflow\"\n",
    "\n",
    "origin = \"stackoverflow\"\n",
    "type = \"python\"\n",
    "\n",
    "for subdir, dirs, files in os.walk(f\"{interim_dir}/snippets\"):\n",
    "    for i, file in enumerate(files):\n",
    "        path = os.path.join(subdir, file)\n",
    "        print(f\"Exporting code from {path}...\")\n",
    "\n",
    "        with open(path) as f:\n",
    "            snippets = json.load(f)\n",
    "            snippets = list(chain(*map(list, snippets)))\n",
    "\n",
    "            valid_snippets = source_code_extractor.filter_valid_source_code(snippets, type)\n",
    "\n",
    "            source_code_extractor.export_source_code(origin, valid_snippets, type, i)\n",
    "\n",
    "source_code_extractor.delete_invalid_files(origin, type)"
   ]
  }
 ],
 "metadata": {
  "kernelspec": {
   "display_name": "Python 3",
   "language": "python",
   "name": "python3"
  },
  "language_info": {
   "codemirror_mode": {
    "name": "ipython",
    "version": 3
   },
   "file_extension": ".py",
   "mimetype": "text/x-python",
   "name": "python",
   "nbconvert_exporter": "python",
   "pygments_lexer": "ipython3",
   "version": "3.7.3"
  }
 },
 "nbformat": 4,
 "nbformat_minor": 2
}
